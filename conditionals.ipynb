{
 "cells": [
  {
   "cell_type": "code",
   "execution_count": null,
   "id": "bbbe51a7-0b7a-422b-88bf-cd2547d12aee",
   "metadata": {},
   "outputs": [],
   "source": [
    "Conditional Statements: Conditional statements, also known as control flow statements, allow a program to make decisions and execute different blocks of code based on whether a certain condition is true or false. These conditions are evaluated to boolean values, which are either true or false. . These conditions are usually expressions that compare values using comparison operators (e.g.,= ==, !=, <, >, <=, >=). The result of such expressions is a boolean value, indicating the truth or falsity of the condition. This, in turn, determines which block of code will be executeds.\n",
    "\n",
    "Truthy Vs. Falsy Values\n",
    "\n",
    "In JavaScript, values are not only categorized as true or false but also as \"truthy\" or \"falsy\". This distinction is important when evaluating conditions in conditional statements. Falsy Values: false: The keyword false. 0: The number zero. \"\" (Empty String): A string with no characters. null: Represents no value or no object. undefined: Indicates that a variable has not been assigned a value. NaN: Stands for \"Not-a-Number\". Example: if (0) { console.log(\"This won't print, 0 is falsy\"); } else { console.log(\"0 is falsy\"); } if (null) { console.log(\"This won't print, null is falsy\"); } 0 is falsy Truthy Values: Any value that is not falsy is considered truthy. This includes true, all numbers (other than 0), all strings (including those with whitespace), and all objects and arrays (even empty ones).\n",
    "\n"
   ]
  },
  {
   "cell_type": "markdown",
   "metadata": {},
   "source": []
  }
 ],
 "metadata": {
  "kernelspec": {
   "display_name": "Python 3 (ipykernel)",
   "language": "python",
   "name": "python3"
  },
  "language_info": {
   "codemirror_mode": {
    "name": "ipython",
    "version": 3
   },
   "file_extension": ".py",
   "mimetype": "text/x-python",
   "name": "python",
   "nbconvert_exporter": "python",
   "pygments_lexer": "ipython3",
   "version": "3.10.8"
  }
 },
 "nbformat": 4,
 "nbformat_minor": 5
}
