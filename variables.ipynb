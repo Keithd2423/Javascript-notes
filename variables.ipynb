{
 "cells": [
  {
   "cell_type": "markdown",
   "id": "070217b8-ddae-4a99-97ef-0f85385b52e5",
   "metadata": {
    "jp-MarkdownHeadingCollapsed": true
   },
   "source": [
    "# Variables"
   ]
  },
  {
   "cell_type": "markdown",
   "id": "4363d401-d6eb-445e-bb43-ff7a4449f4b1",
   "metadata": {},
   "source": [
    "prints a new line in the console "
   ]
  },
  {
   "cell_type": "markdown",
   "id": "13793f54-7060-45a0-81f0-cf08646b91a2",
   "metadata": {},
   "source": [
    "syntax: console.log(\"Text or Object\");\n",
    "\n",
    "Example:"
   ]
  },
  {
   "cell_type": "markdown",
   "id": "b906115f-16ea-4131-a8e2-7bb8a14b79e9",
   "metadata": {},
   "source": [
    "Example:"
   ]
  },
  {
   "cell_type": "code",
   "execution_count": 5,
   "id": "1de4ec26-eaa4-48fb-904d-733a4466983a",
   "metadata": {},
   "outputs": [
    {
     "name": "stdout",
     "output_type": "stream",
     "text": [
      "hello world\n"
     ]
    }
   ],
   "source": [
    "console.log(\"hello world\");"
   ]
  },
  {
   "cell_type": "markdown",
   "id": "d406d814-ed71-4b38-b340-ebde41010eab",
   "metadata": {
    "collapsed": true,
    "jupyter": {
     "outputs_hidden": true
    },
    "scrolled": true
   },
   "source": [
    "Variables in Javascript\n",
    "\n",
    "Documentation located here.\n",
    "Variables: A container for storing values. A variable has a name and contains a value. You\n",
    "\"Store\" a variable in memory and it allows you to access, modify, and manipulate that value\n",
    "throughout your program. Variables allow us to write programs in a generic manner, allow\n",
    "us to modify data without needing to modify the code structure.\n",
    "You can store many different data types in variables: Strings, Ints, booleans, floats, doubles\n",
    "and more\n",
    "\n",
    "Variable Declaration & Initialization\n",
    "\n",
    "Variables can be declared & initialize at the same time or seperately, in order to utilize the\n",
    "variable, both must happen.\n",
    "Variable Declaration: This is the first step to creating a variable, it tells your program that\n",
    "we want to create a variable, in this step the variable has no value. Must declare with var, let\n",
    "or CONST keywords. Var is outdated, we do not use it, you will see it in legacy code as well\n",
    "as in code.org.\n",
    "Example:\n",
    "let age;\n",
    "var name;\n",
    "CONST birthday;\n",
    "Variable Initialization: This is where you give a variable a value for the first time. Variables\n",
    "must be declared before initializing.\n",
    "Example:\n",
    "age = 25;\n",
    "name = \"Cooper\";\n",
    "birthday = 2000;\n",
    "Variable Definition: Variables can be declared and initialized at the same time. We call this\n",
    "\"Variable Definition\".\n",
    "Example:\n",
    "let age = 20;\n",
    "var name = \"Cooper\";\n",
    "CONST birthday = 2002;"
   ]
  },
  {
   "cell_type": "markdown",
   "id": "58d3e26d-2b2a-4d39-a28a-5592fc8f2dac",
   "metadata": {
    "collapsed": true,
    "jupyter": {
     "outputs_hidden": true
    },
    "scrolled": true
   },
   "source": [
    "The equals sign is known as the assignment operator in most programming langauges. You\n",
    "must use this to create variables.\n",
    "\n",
    "Naming Variables\n",
    "\n",
    "Variable names are extremely important, naming conventions vary between languages, here\n",
    "are some tips:\n",
    "1. Use descriptive names, that match the purpose of the variable.\n",
    "2. Use CamelCase when writing multi-word variables (Javascript best practice)\n",
    "3. Avoid symbols, and \"reserved\" words, such as: let, for, if etc.\n",
    "Never put spaces in variables, a variable can never just be an integer\n",
    "Good Examples:\n",
    "let firstName = \"Thomas\";\n",
    "let numberOfLives = 9;\n",
    "CONST temp = 98;\n",
    "let messageOfTheDay = \"Hello there, welcome to CSP\";\n",
    "Bad Examples:\n",
    "let 2 = 9;\n",
    "let N!M@ = \"John\";\n",
    "let birthday month = \"December\";\n",
    "\n",
    "Using the console.log( ); method with\n",
    "Variables\n",
    "\n",
    "We can combine our previous knowledge of the console log method with variables to start to\n",
    "build actual programs.\n",
    "Lets start by defining a variable:\n",
    "let parentsAge = 36;\n",
    "Now lets print the age variable to the console. NOTE: In Jupyter we get the outut below our\n",
    "cell. If you want to see how this looks in a coding environment you can try this in VSCode.\n",
    "console.log(parentsAge);"
   ]
  },
  {
   "cell_type": "markdown",
   "id": "87059983-bc42-4120-92cf-667ad4825373",
   "metadata": {},
   "source": [
    "See above, when you run the cell (Shift + Enter) the output is not the variable name, but the\n",
    "information stored inside the variable. Below are more examples:\n",
    "let birthdayCakeFlavor = \"chocolate\";\n",
    "console.log(birthdayCakeFlavor);\n",
    "chocolate\n",
    "Operators\n",
    "\n",
    "Operators are crucial for writing programming langauge. Operators are special symbols or\n",
    "keywords that can perform operations. Below are the most common types:\n",
    "Arithmetic Operators: Used to perform basic math.\n",
    "Example\n",
    "+ (Add)\n",
    "- (subtract)\n",
    "* (Multiply)\n",
    "/ (Divide)\n",
    "% (Modulo)\n",
    "Comparison Operators: Used to compare values.\n",
    "Example\n",
    "=== (equal)\n",
    "!= (Not Equal)\n",
    "< (Less Than)\n",
    "> (Greater Than)\n",
    "<= (less than or equal)\n",
    ">= (Greater than or equal)\n",
    "Logical Operators: Used to make decisions.\n",
    "Example\n",
    "&& (and)\n",
    "|| (or)\n",
    "! (Not)\n",
    "Assignment Operators: Used in variables to assign value.\n",
    "Example\n",
    "= (Assign)\n",
    "+= (Add and assign)\n",
    "-= (Subtract and assign)"
   ]
  },
  {
   "cell_type": "markdown",
   "id": "f109d9bc-0ff1-4dfa-91ee-7108bba0c2df",
   "metadata": {},
   "source": [
    "String Operators: Used to concetenate (combine) two strings.\n",
    "Example\n",
    "+ (Concatenate)\n",
    "\n",
    "Using Operators\n",
    "\n",
    "Operators are simple to use within variables. They can be used outside of variables as well,\n",
    "but lets start by using them inside variables. We will use the same process as above, we will\n",
    "define a variable and then print to the console. However we will now utilize operpators to\n",
    "make more complex variables.\n",
    "let areaOfRectangle = 4 * 5;\n",
    "console.log(areaOfRectangle);\n",
    "20\n",
    "We can use the concatenation (and the '+' operator) to make better print statements in the\n",
    "console. Note the space between the colon and the last quotation mark:\n",
    "let areaOfSquare = 7 * 7;\n",
    "console.log('The area of a 7 inch square is: ' + areaOfSquare);\n",
    "The area of a 7 inch square is: 49\n",
    "You can concatenate words too, however lets examine what happens:\n",
    "let firstName = \"John\";\n",
    "let lastName = \"Doe\";\n",
    "console.log(\"His name is \" + firstName + lastName);\n",
    "His name is JohnDoe\n",
    "We are missing a space between first name and last name. We can fix this by adding a blank\n",
    "space, using an empty set of quotes, make sure you put a space between the quotes:\n",
    "console.log(\"His name is \" + firstName + \" \" + lastName);\n",
    "His name is John Doe\n",
    "We can also use operators on variables. For instance we will use the equality operator to see\n",
    "if the 2 variables below are equal. It will return true or false:\n",
    "let trainTicketValue = 5;\n",
    "let trainNumber = 4;"
   ]
  },
  {
   "cell_type": "markdown",
   "id": "9ded5dfb-104c-4b45-884e-0a0a2972d27e",
   "metadata": {
    "jp-MarkdownHeadingCollapsed": true
   },
   "source": [
    "# Conditional Statements In Javascript HW 11/4/23"
   ]
  },
  {
   "cell_type": "markdown",
   "id": "961ac93c-f5ec-406a-b7b7-8219dd62bf82",
   "metadata": {},
   "source": [
    "Conditional Statements: Conditional statements, also known as control flow statements,\n",
    "allow a program to make decisions and execute different blocks of code based on whether a\n",
    "certain condition is true or false. These conditions are evaluated to boolean values, which are\n",
    "either true or false. . These conditions are usually expressions that compare values using\n",
    "comparison operators (e.g.,= ==, !=, <, >, <=, >=). The result of such expressions is a\n",
    "boolean value, indicating the truth or falsity of the condition. This, in turn, determines which\n",
    "block of code will be executeds."
   ]
  },
  {
   "cell_type": "markdown",
   "id": "ae240107-9dd3-4fb1-b87d-f463100bb6e2",
   "metadata": {},
   "source": [
    "Truthy Vs. Falsy Values"
   ]
  },
  {
   "cell_type": "markdown",
   "id": "79e99e4d-463f-46c5-afa2-5d62e6b5157e",
   "metadata": {},
   "source": [
    "In JavaScript, values are not only categorized as true or false but also as \"truthy\" or \"falsy\".\n",
    "This distinction is important when evaluating conditions in conditional statements.\n",
    "Falsy Values:\n",
    "false: The keyword false.\n",
    "0: The number zero.\n",
    "\"\" (Empty String): A string with no characters.\n",
    "null: Represents no value or no object.\n",
    "undefined: Indicates that a variable has not been assigned a value.\n",
    "NaN: Stands for \"Not-a-Number\".\n",
    "Example:\n",
    "if (0) {\n",
    "console.log(\"This won't print, 0 is falsy\");\n",
    "} else {\n",
    "console.log(\"0 is falsy\");\n",
    "}\n",
    "if (null) {\n",
    "console.log(\"This won't print, null is falsy\");\n",
    "}\n",
    "0 is falsy\n",
    "Truthy Values:\n",
    "Any value that is not falsy is considered truthy. This includes true, all numbers (other than 0),\r\n",
    "all strings (including those with whitespace), and all objects and arrays (even empty ones)."
   ]
  },
  {
   "cell_type": "code",
   "execution_count": null,
   "id": "9f0b930c-2f8c-4d34-9d0d-8cc9e396c33c",
   "metadata": {},
   "outputs": [],
   "source": [
    "if (42) {\n",
    "console.log(\"42 is truthy\");\n",
    "}\n",
    "if (\"Hello\") {\n",
    "console.log(\"Non-empty string is truthy\");\n",
    "}\n",
    "if (\" \") {\n",
    "console.log(\"Whitespace-only string is also truthy\");\n",
    "}\n",
    "if ([]) {\n",
    "console.log(\"An empty array is truthy\");\n",
    "}\n",
    "if ({}) {\n",
    "console.log(\"An empty object is truthy\");\n",
    "}\n",
    "42 is truthy\n",
    "Non-empty string is truthy\n",
    "Whitespace-only string is also truthy\n",
    "An empty array is truthy\n",
    "An empty object is truthy"
   ]
  },
  {
   "cell_type": "markdown",
   "id": "2226cfc7-d226-47c6-8153-a168f4103f95",
   "metadata": {},
   "source": [
    "If..Else Statements"
   ]
  },
  {
   "cell_type": "markdown",
   "id": "58175a15-8fde-4aa7-bebf-fb6ea571842b",
   "metadata": {},
   "source": [
    "An if..else statement will execute a statement if the specified condition is truthy. This is the\n",
    "most basic conditional statment, it gives your program a bit more flexibility and decision\n",
    "making. The steps to making a if statement are below:\n",
    "\n",
    "1. keyword if followed by paranthesis.\n",
    "2. A conditiona to test in paranthesis, usually using comparison operators.\n",
    "3. A set of curly braces, inside is the code that runs if true.\n",
    "4. The else keyword.\n",
    "5. Another set of curly braces, inside is the code that runs if false.\n",
    "Note: The else is optional. You can create just a basic if statement without an else if needed."
   ]
  },
  {
   "cell_type": "markdown",
   "id": "ca44a97d-85f7-4be5-9175-2e4f812118d2",
   "metadata": {},
   "source": [
    "Syntax:"
   ]
  },
  {
   "cell_type": "code",
   "execution_count": null,
   "id": "3765fbc1-fe6e-4f73-a845-6d35d4dec915",
   "metadata": {},
   "outputs": [],
   "source": [
    "if ('condition') {\n",
    "//Code here runs if the condition is true.\n",
    "}\n",
    "In [13]: In [15]:\n",
    "\n",
    "//Code out here is OUTSIDE the if statement block of code. The if statement doenst\n",
    "Example:\n",
    "let myAge = 2;\n",
    "let yourAge = 2;\n",
    "if (myAge == yourAge){\n",
    "console.log(\"We are the same age\");\n",
    "}\n",
    "We are the same age\n",
    "Syntax:\n",
    "if ('condition') {\n",
    "//Code here runs if the condition is true.\n",
    "} else {\n",
    "//If the condition is false, run different code here\n",
    "}\n",
    "Example:\n",
    "let numOfApples = 10;\n",
    "let numOfPeaches = 12;\n",
    "if (numOfApples > numOfPeaches) {\n",
    "console.log (\"You have more apples than peaches.\");\n",
    "} else {\n",
    "console.log (\"You have more peaches than apples.\");\n",
    "}\n",
    "You have more peaches than apples.\n",
    "let shoppingDone = false;\n",
    "let childsAllowance;\n",
    "if (shoppingDone === true) {\n",
    "childsAllowance = 10;\n",
    "} else {\n",
    "childsAllowance = 5;\n",
    "}\n",
    "5"
   ]
  },
  {
   "cell_type": "markdown",
   "id": "64616d02-090d-43be-b9f3-0b67f4db6704",
   "metadata": {},
   "source": [
    "Else If"
   ]
  },
  {
   "cell_type": "markdown",
   "id": "2e4736b5-9823-413f-9bba-2360f90be3f1",
   "metadata": {},
   "source": [
    "The last example provided us with two choices, or outcomes — but what if we want more\n",
    "than two?\n",
    "In [2]: In [2]: In [1]: In [2]: Out[2]:\n",
    "\n",
    "There is a way to chain on extra choices/outcomes to your if...else — using else if .\n",
    "Each extra choice requires an additional block to put in between if () { } and else {\n",
    "} .\n",
    "You can have as many different options in a conditional statement using else if .\n",
    "Syntax:"
   ]
  },
  {
   "cell_type": "code",
   "execution_count": 3,
   "id": "5656c18f-8ccc-43d4-8278-dcc788be57d8",
   "metadata": {},
   "outputs": [],
   "source": [
    "if ('checks condition 1') {\n",
    "//Code here runs if the condition is true.\n",
    "} else if ('checks condition 2') {\n",
    "//Code here runs if the condition1 is false and condition 2 is true.\n",
    "} else if ('checks condition 3'){\n",
    "//Code here runs if the conditional is false and conditional 3 is true.\n",
    "} else{\n",
    "//Code here runs if all conditionals above are false.\n",
    "}"
   ]
  },
  {
   "cell_type": "markdown",
   "id": "d3cd1cdf-2a59-4718-a932-dd897f419601",
   "metadata": {},
   "source": [
    "Example:"
   ]
  },
  {
   "cell_type": "code",
   "execution_count": 5,
   "id": "a603c615-0eda-4bca-9385-0d32a99d1c05",
   "metadata": {},
   "outputs": [
    {
     "name": "stdout",
     "output_type": "stream",
     "text": [
      "Tom is not the same age as anyone\n"
     ]
    }
   ],
   "source": [
    "let tomsAge = 10;\n",
    "let sarahsAge = 12;\n",
    "let arisAge = 15;\n",
    "if (tomsAge == sarahsAge){\n",
    "console.log(\"Tom and Sarah are the same age\");\n",
    "} else if (tomsAge == arisAge){\n",
    "console.log(\"Tom and Ari are the same age\");\n",
    "} else{\n",
    "console.log(\"Tom is not the same age as anyone\");\n",
    "}"
   ]
  },
  {
   "cell_type": "markdown",
   "id": "6ea25529-8aff-4d45-a0c2-56b875a5ac8b",
   "metadata": {},
   "source": [
    "Combining Logical Operators with\n",
    "Conditionals"
   ]
  },
  {
   "cell_type": "markdown",
   "id": "1d4f9109-e25a-4944-9eb9-958f93e74a78",
   "metadata": {},
   "source": [
    "Logical Operators: Used to make decisions.\n",
    "Example\n",
    "&& (and)\n",
    "|| (or)\n",
    "! (Not)\n",
    "We can combine logical operators with our conditional statements to make smarter\n",
    "programs.\n",
    "Example:"
   ]
  },
  {
   "cell_type": "code",
   "execution_count": null,
   "id": "4507f27f-7a8e-4b98-aa73-1e731bfa181d",
   "metadata": {},
   "outputs": [],
   "source": [
    "let tomAge = 10;\n",
    "let sarahAge = 12;\n",
    "let ariAge = 15;\n",
    "if (tomsAge > 10 && sarahsAge > 10 && arisAge > 10) {\n",
    "console.log(\"All of them are older than 10\");\n",
    "} else if (tomsAge > 10 || sarahsAge > 10 || arisAge > 10) {\n",
    "console.log(\"At least one of them is older than 10\");\n",
    "} else {\n",
    "console.log(\"None of them are older than 10\");\n",
    "}"
   ]
  },
  {
   "cell_type": "markdown",
   "id": "e1e48a7d-c341-4f07-828c-320955cdcc30",
   "metadata": {
    "jp-MarkdownHeadingCollapsed": true
   },
   "source": [
    "# key takeaways 11/6/23"
   ]
  },
  {
   "cell_type": "markdown",
   "id": "031b0ea6-9750-47d5-adb3-e9b2105c4742",
   "metadata": {},
   "source": [
    "# Functions in Javascript"
   ]
  },
  {
   "cell_type": "markdown",
   "id": "d32b390d-d463-4899-8204-6a68877cd4ec",
   "metadata": {},
   "source": [
    "Functions: Functions are one of the fundamental building blocks in JavaScript. A function in\n",
    "JavaScript is similar to a procedure—a set of statements that performs a task or calculates a\n",
    "value, but for a procedure to qualify as a function, it should take some input and return an\n",
    "output. Functions are repeatable lines of code that make our programs neater and easier to\n",
    "read and run."
   ]
  },
  {
   "cell_type": "markdown",
   "id": "96064df8-6b87-4c88-b6f6-6f434a37d6f6",
   "metadata": {},
   "source": [
    "Defining Functions"
   ]
  },
  {
   "cell_type": "markdown",
   "id": "ee8e219d-15bd-4aa5-ab85-eb9a812b382c",
   "metadata": {},
   "source": [
    "In JavaScript, in order to create a function there is a syntax that we use. There are multiple\n",
    "ways to create functions in Javascript, we will talk about 2 different ways below.\n",
    "Function Declarations:\n",
    "A function definition (also called a function declaration, or function statement) consists of\n",
    "the function keyword, followed by:\n",
    "1. The name of the function.\n",
    "2. . A list of parameters to the function, enclosed in parentheses and separated commas.\n",
    "3. The savaScript statements that define the function, enclosed in curly braces, { /* ... */ }.\n",
    "Example:"
   ]
  },
  {
   "cell_type": "code",
   "execution_count": null,
   "id": "70ac0e26-7e07-44af-b660-f05201d44897",
   "metadata": {},
   "outputs": [],
   "source": []
  }
 ],
 "metadata": {
  "kernelspec": {
   "display_name": "JavaScript (Node.js)",
   "language": "javascript",
   "name": "javascript"
  },
  "language_info": {
   "file_extension": ".js",
   "mimetype": "application/javascript",
   "name": "javascript",
   "version": "20.8.1"
  }
 },
 "nbformat": 4,
 "nbformat_minor": 5
}
