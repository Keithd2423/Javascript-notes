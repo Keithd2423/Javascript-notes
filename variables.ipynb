{
 "cells": [
  {
   "cell_type": "markdown",
   "id": "070217b8-ddae-4a99-97ef-0f85385b52e5",
   "metadata": {
    "jp-MarkdownHeadingCollapsed": true
   },
   "source": [
    "# Variables"
   ]
  },
  {
   "cell_type": "markdown",
   "id": "4363d401-d6eb-445e-bb43-ff7a4449f4b1",
   "metadata": {},
   "source": [
    "prints a new line in the console "
   ]
  },
  {
   "cell_type": "markdown",
   "id": "13793f54-7060-45a0-81f0-cf08646b91a2",
   "metadata": {},
   "source": [
    "syntax: console.log(\"Text or Object\");\n",
    "\n",
    "Example:"
   ]
  },
  {
   "cell_type": "markdown",
   "id": "b906115f-16ea-4131-a8e2-7bb8a14b79e9",
   "metadata": {},
   "source": [
    "Example:"
   ]
  },
  {
   "cell_type": "code",
   "execution_count": 5,
   "id": "1de4ec26-eaa4-48fb-904d-733a4466983a",
   "metadata": {},
   "outputs": [
    {
     "name": "stdout",
     "output_type": "stream",
     "text": [
      "hello world\n"
     ]
    }
   ],
   "source": [
    "console.log(\"hello world\");"
   ]
  },
  {
   "cell_type": "markdown",
   "id": "d406d814-ed71-4b38-b340-ebde41010eab",
   "metadata": {
    "collapsed": true,
    "jupyter": {
     "outputs_hidden": true
    },
    "scrolled": true
   },
   "source": [
    "Variables in Javascript\n",
    "\n",
    "Documentation located here.\n",
    "Variables: A container for storing values. A variable has a name and contains a value. You\n",
    "\"Store\" a variable in memory and it allows you to access, modify, and manipulate that value\n",
    "throughout your program. Variables allow us to write programs in a generic manner, allow\n",
    "us to modify data without needing to modify the code structure.\n",
    "You can store many different data types in variables: Strings, Ints, booleans, floats, doubles\n",
    "and more\n",
    "\n",
    "Variable Declaration & Initialization\n",
    "\n",
    "Variables can be declared & initialize at the same time or seperately, in order to utilize the\n",
    "variable, both must happen.\n",
    "Variable Declaration: This is the first step to creating a variable, it tells your program that\n",
    "we want to create a variable, in this step the variable has no value. Must declare with var, let\n",
    "or CONST keywords. Var is outdated, we do not use it, you will see it in legacy code as well\n",
    "as in code.org.\n",
    "Example:\n",
    "let age;\n",
    "var name;\n",
    "CONST birthday;\n",
    "Variable Initialization: This is where you give a variable a value for the first time. Variables\n",
    "must be declared before initializing.\n",
    "Example:\n",
    "age = 25;\n",
    "name = \"Cooper\";\n",
    "birthday = 2000;\n",
    "Variable Definition: Variables can be declared and initialized at the same time. We call this\n",
    "\"Variable Definition\".\n",
    "Example:\n",
    "let age = 20;\n",
    "var name = \"Cooper\";\n",
    "CONST birthday = 2002;"
   ]
  },
  {
   "cell_type": "markdown",
   "id": "58d3e26d-2b2a-4d39-a28a-5592fc8f2dac",
   "metadata": {
    "collapsed": true,
    "jupyter": {
     "outputs_hidden": true
    },
    "scrolled": true
   },
   "source": [
    "The equals sign is known as the assignment operator in most programming langauges. You\n",
    "must use this to create variables.\n",
    "\n",
    "Naming Variables\n",
    "\n",
    "Variable names are extremely important, naming conventions vary between languages, here\n",
    "are some tips:\n",
    "1. Use descriptive names, that match the purpose of the variable.\n",
    "2. Use CamelCase when writing multi-word variables (Javascript best practice)\n",
    "3. Avoid symbols, and \"reserved\" words, such as: let, for, if etc.\n",
    "Never put spaces in variables, a variable can never just be an integer\n",
    "Good Examples:\n",
    "let firstName = \"Thomas\";\n",
    "let numberOfLives = 9;\n",
    "CONST temp = 98;\n",
    "let messageOfTheDay = \"Hello there, welcome to CSP\";\n",
    "Bad Examples:\n",
    "let 2 = 9;\n",
    "let N!M@ = \"John\";\n",
    "let birthday month = \"December\";\n",
    "\n",
    "Using the console.log( ); method with\n",
    "Variables\n",
    "\n",
    "We can combine our previous knowledge of the console log method with variables to start to\n",
    "build actual programs.\n",
    "Lets start by defining a variable:\n",
    "let parentsAge = 36;\n",
    "Now lets print the age variable to the console. NOTE: In Jupyter we get the outut below our\n",
    "cell. If you want to see how this looks in a coding environment you can try this in VSCode.\n",
    "console.log(parentsAge);"
   ]
  },
  {
   "cell_type": "markdown",
   "id": "87059983-bc42-4120-92cf-667ad4825373",
   "metadata": {},
   "source": [
    "See above, when you run the cell (Shift + Enter) the output is not the variable name, but the\n",
    "information stored inside the variable. Below are more examples:\n",
    "let birthdayCakeFlavor = \"chocolate\";\n",
    "console.log(birthdayCakeFlavor);\n",
    "chocolate\n",
    "Operators\n",
    "\n",
    "Operators are crucial for writing programming langauge. Operators are special symbols or\n",
    "keywords that can perform operations. Below are the most common types:\n",
    "Arithmetic Operators: Used to perform basic math.\n",
    "Example\n",
    "+ (Add)\n",
    "- (subtract)\n",
    "* (Multiply)\n",
    "/ (Divide)\n",
    "% (Modulo)\n",
    "Comparison Operators: Used to compare values.\n",
    "Example\n",
    "=== (equal)\n",
    "!= (Not Equal)\n",
    "< (Less Than)\n",
    "> (Greater Than)\n",
    "<= (less than or equal)\n",
    ">= (Greater than or equal)\n",
    "Logical Operators: Used to make decisions.\n",
    "Example\n",
    "&& (and)\n",
    "|| (or)\n",
    "! (Not)\n",
    "Assignment Operators: Used in variables to assign value.\n",
    "Example\n",
    "= (Assign)\n",
    "+= (Add and assign)\n",
    "-= (Subtract and assign)"
   ]
  },
  {
   "cell_type": "markdown",
   "id": "f109d9bc-0ff1-4dfa-91ee-7108bba0c2df",
   "metadata": {},
   "source": [
    "String Operators: Used to concetenate (combine) two strings.\n",
    "Example\n",
    "+ (Concatenate)\n",
    "\n",
    "Using Operators\n",
    "\n",
    "Operators are simple to use within variables. They can be used outside of variables as well,\n",
    "but lets start by using them inside variables. We will use the same process as above, we will\n",
    "define a variable and then print to the console. However we will now utilize operpators to\n",
    "make more complex variables.\n",
    "let areaOfRectangle = 4 * 5;\n",
    "console.log(areaOfRectangle);\n",
    "20\n",
    "We can use the concatenation (and the '+' operator) to make better print statements in the\n",
    "console. Note the space between the colon and the last quotation mark:\n",
    "let areaOfSquare = 7 * 7;\n",
    "console.log('The area of a 7 inch square is: ' + areaOfSquare);\n",
    "The area of a 7 inch square is: 49\n",
    "You can concatenate words too, however lets examine what happens:\n",
    "let firstName = \"John\";\n",
    "let lastName = \"Doe\";\n",
    "console.log(\"His name is \" + firstName + lastName);\n",
    "His name is JohnDoe\n",
    "We are missing a space between first name and last name. We can fix this by adding a blank\n",
    "space, using an empty set of quotes, make sure you put a space between the quotes:\n",
    "console.log(\"His name is \" + firstName + \" \" + lastName);\n",
    "His name is John Doe\n",
    "We can also use operators on variables. For instance we will use the equality operator to see\n",
    "if the 2 variables below are equal. It will return true or false:\n",
    "let trainTicketValue = 5;\n",
    "let trainNumber = 4;"
   ]
  },
  {
   "cell_type": "markdown",
   "id": "9ded5dfb-104c-4b45-884e-0a0a2972d27e",
   "metadata": {
    "jp-MarkdownHeadingCollapsed": true
   },
   "source": [
    "# Conditional Statements In Javascript HW 11/4/23"
   ]
  },
  {
   "cell_type": "markdown",
   "id": "961ac93c-f5ec-406a-b7b7-8219dd62bf82",
   "metadata": {},
   "source": [
    "Conditional Statements: Conditional statements, also known as control flow statements,\n",
    "allow a program to make decisions and execute different blocks of code based on whether a\n",
    "certain condition is true or false. These conditions are evaluated to boolean values, which are\n",
    "either true or false. . These conditions are usually expressions that compare values using\n",
    "comparison operators (e.g.,= ==, !=, <, >, <=, >=). The result of such expressions is a\n",
    "boolean value, indicating the truth or falsity of the condition. This, in turn, determines which\n",
    "block of code will be executeds."
   ]
  },
  {
   "cell_type": "markdown",
   "id": "ae240107-9dd3-4fb1-b87d-f463100bb6e2",
   "metadata": {},
   "source": [
    "Truthy Vs. Falsy Values"
   ]
  },
  {
   "cell_type": "markdown",
   "id": "79e99e4d-463f-46c5-afa2-5d62e6b5157e",
   "metadata": {},
   "source": [
    "In JavaScript, values are not only categorized as true or false but also as \"truthy\" or \"falsy\".\n",
    "This distinction is important when evaluating conditions in conditional statements.\n",
    "Falsy Values:\n",
    "false: The keyword false.\n",
    "0: The number zero.\n",
    "\"\" (Empty String): A string with no characters.\n",
    "null: Represents no value or no object.\n",
    "undefined: Indicates that a variable has not been assigned a value.\n",
    "NaN: Stands for \"Not-a-Number\".\n",
    "Example:\n",
    "if (0) {\n",
    "console.log(\"This won't print, 0 is falsy\");\n",
    "} else {\n",
    "console.log(\"0 is falsy\");\n",
    "}\n",
    "if (null) {\n",
    "console.log(\"This won't print, null is falsy\");\n",
    "}\n",
    "0 is falsy\n",
    "Truthy Values:\n",
    "Any value that is not falsy is considered truthy. This includes true, all numbers (other than 0),\r\n",
    "all strings (including those with whitespace), and all objects and arrays (even empty ones)."
   ]
  },
  {
   "cell_type": "code",
   "execution_count": null,
   "id": "9f0b930c-2f8c-4d34-9d0d-8cc9e396c33c",
   "metadata": {},
   "outputs": [],
   "source": [
    "if (42) {\n",
    "console.log(\"42 is truthy\");\n",
    "}\n",
    "if (\"Hello\") {\n",
    "console.log(\"Non-empty string is truthy\");\n",
    "}\n",
    "if (\" \") {\n",
    "console.log(\"Whitespace-only string is also truthy\");\n",
    "}\n",
    "if ([]) {\n",
    "console.log(\"An empty array is truthy\");\n",
    "}\n",
    "if ({}) {\n",
    "console.log(\"An empty object is truthy\");\n",
    "}\n",
    "42 is truthy\n",
    "Non-empty string is truthy\n",
    "Whitespace-only string is also truthy\n",
    "An empty array is truthy\n",
    "An empty object is truthy"
   ]
  },
  {
   "cell_type": "markdown",
   "id": "2226cfc7-d226-47c6-8153-a168f4103f95",
   "metadata": {},
   "source": [
    "If..Else Statements"
   ]
  },
  {
   "cell_type": "markdown",
   "id": "58175a15-8fde-4aa7-bebf-fb6ea571842b",
   "metadata": {},
   "source": [
    "An if..else statement will execute a statement if the specified condition is truthy. This is the\n",
    "most basic conditional statment, it gives your program a bit more flexibility and decision\n",
    "making. The steps to making a if statement are below:\n",
    "\n",
    "1. keyword if followed by paranthesis.\n",
    "2. A conditiona to test in paranthesis, usually using comparison operators.\n",
    "3. A set of curly braces, inside is the code that runs if true.\n",
    "4. The else keyword.\n",
    "5. Another set of curly braces, inside is the code that runs if false.\n",
    "Note: The else is optional. You can create just a basic if statement without an else if needed."
   ]
  },
  {
   "cell_type": "markdown",
   "id": "ca44a97d-85f7-4be5-9175-2e4f812118d2",
   "metadata": {},
   "source": [
    "Syntax:"
   ]
  },
  {
   "cell_type": "code",
   "execution_count": null,
   "id": "3765fbc1-fe6e-4f73-a845-6d35d4dec915",
   "metadata": {},
   "outputs": [],
   "source": [
    "if ('condition') {\n",
    "//Code here runs if the condition is true.\n",
    "}\n",
    "In [13]: In [15]:\n",
    "\n",
    "//Code out here is OUTSIDE the if statement block of code. The if statement doenst\n",
    "Example:\n",
    "let myAge = 2;\n",
    "let yourAge = 2;\n",
    "if (myAge == yourAge){\n",
    "console.log(\"We are the same age\");\n",
    "}\n",
    "We are the same age\n",
    "Syntax:\n",
    "if ('condition') {\n",
    "//Code here runs if the condition is true.\n",
    "} else {\n",
    "//If the condition is false, run different code here\n",
    "}\n",
    "Example:\n",
    "let numOfApples = 10;\n",
    "let numOfPeaches = 12;\n",
    "if (numOfApples > numOfPeaches) {\n",
    "console.log (\"You have more apples than peaches.\");\n",
    "} else {\n",
    "console.log (\"You have more peaches than apples.\");\n",
    "}\n",
    "You have more peaches than apples.\n",
    "let shoppingDone = false;\n",
    "let childsAllowance;\n",
    "if (shoppingDone === true) {\n",
    "childsAllowance = 10;\n",
    "} else {\n",
    "childsAllowance = 5;\n",
    "}\n",
    "5"
   ]
  },
  {
   "cell_type": "markdown",
   "id": "64616d02-090d-43be-b9f3-0b67f4db6704",
   "metadata": {},
   "source": [
    "Else If"
   ]
  },
  {
   "cell_type": "markdown",
   "id": "2e4736b5-9823-413f-9bba-2360f90be3f1",
   "metadata": {},
   "source": [
    "The last example provided us with two choices, or outcomes — but what if we want more\n",
    "than two?\n",
    "In [2]: In [2]: In [1]: In [2]: Out[2]:\n",
    "\n",
    "There is a way to chain on extra choices/outcomes to your if...else — using else if .\n",
    "Each extra choice requires an additional block to put in between if () { } and else {\n",
    "} .\n",
    "You can have as many different options in a conditional statement using else if .\n",
    "Syntax:"
   ]
  },
  {
   "cell_type": "code",
   "execution_count": 3,
   "id": "5656c18f-8ccc-43d4-8278-dcc788be57d8",
   "metadata": {},
   "outputs": [],
   "source": [
    "if ('checks condition 1') {\n",
    "//Code here runs if the condition is true.\n",
    "} else if ('checks condition 2') {\n",
    "//Code here runs if the condition1 is false and condition 2 is true.\n",
    "} else if ('checks condition 3'){\n",
    "//Code here runs if the conditional is false and conditional 3 is true.\n",
    "} else{\n",
    "//Code here runs if all conditionals above are false.\n",
    "}"
   ]
  },
  {
   "cell_type": "markdown",
   "id": "d3cd1cdf-2a59-4718-a932-dd897f419601",
   "metadata": {},
   "source": [
    "Example:"
   ]
  },
  {
   "cell_type": "code",
   "execution_count": 5,
   "id": "a603c615-0eda-4bca-9385-0d32a99d1c05",
   "metadata": {},
   "outputs": [
    {
     "name": "stdout",
     "output_type": "stream",
     "text": [
      "Tom is not the same age as anyone\n"
     ]
    }
   ],
   "source": [
    "let tomsAge = 10;\n",
    "let sarahsAge = 12;\n",
    "let arisAge = 15;\n",
    "if (tomsAge == sarahsAge){\n",
    "console.log(\"Tom and Sarah are the same age\");\n",
    "} else if (tomsAge == arisAge){\n",
    "console.log(\"Tom and Ari are the same age\");\n",
    "} else{\n",
    "console.log(\"Tom is not the same age as anyone\");\n",
    "}"
   ]
  },
  {
   "cell_type": "markdown",
   "id": "6ea25529-8aff-4d45-a0c2-56b875a5ac8b",
   "metadata": {},
   "source": [
    "Combining Logical Operators with\n",
    "Conditionals"
   ]
  },
  {
   "cell_type": "markdown",
   "id": "1d4f9109-e25a-4944-9eb9-958f93e74a78",
   "metadata": {},
   "source": [
    "Logical Operators: Used to make decisions.\n",
    "Example\n",
    "&& (and)\n",
    "|| (or)\n",
    "! (Not)\n",
    "We can combine logical operators with our conditional statements to make smarter\n",
    "programs.\n",
    "Example:"
   ]
  },
  {
   "cell_type": "code",
   "execution_count": null,
   "id": "4507f27f-7a8e-4b98-aa73-1e731bfa181d",
   "metadata": {},
   "outputs": [],
   "source": [
    "let tomAge = 10;\n",
    "let sarahAge = 12;\n",
    "let ariAge = 15;\n",
    "if (tomsAge > 10 && sarahsAge > 10 && arisAge > 10) {\n",
    "console.log(\"All of them are older than 10\");\n",
    "} else if (tomsAge > 10 || sarahsAge > 10 || arisAge > 10) {\n",
    "console.log(\"At least one of them is older than 10\");\n",
    "} else {\n",
    "console.log(\"None of them are older than 10\");\n",
    "}"
   ]
  },
  {
   "cell_type": "markdown",
   "id": "e1e48a7d-c341-4f07-828c-320955cdcc30",
   "metadata": {},
   "source": [
    "# key takeaways 11/6/23"
   ]
  },
  {
   "cell_type": "markdown",
   "id": "031b0ea6-9750-47d5-adb3-e9b2105c4742",
   "metadata": {},
   "source": [
    "# Functions in Javascript"
   ]
  },
  {
   "cell_type": "markdown",
   "id": "d32b390d-d463-4899-8204-6a68877cd4ec",
   "metadata": {},
   "source": [
    "Functions: Functions are one of the fundamental building blocks in JavaScript. A function in\n",
    "JavaScript is similar to a procedure—a set of statements that performs a task or calculates a\n",
    "value, but for a procedure to qualify as a function, it should take some input and return an\n",
    "output. Functions are repeatable lines of code that make our programs neater and easier to\n",
    "read and run."
   ]
  },
  {
   "cell_type": "markdown",
   "id": "96064df8-6b87-4c88-b6f6-6f434a37d6f6",
   "metadata": {},
   "source": [
    "Defining Functions"
   ]
  },
  {
   "cell_type": "markdown",
   "id": "ee8e219d-15bd-4aa5-ab85-eb9a812b382c",
   "metadata": {},
   "source": [
    "In JavaScript, in order to create a function there is a syntax that we use. There are multiple\n",
    "ways to create functions in Javascript, we will talk about 2 different ways below.\n",
    "Function Declarations:\n",
    "A function definition (also called a function declaration, or function statement) consists of\n",
    "the function keyword, followed by:\n",
    "1. The name of the function.\n",
    "2. . A list of parameters to the function, enclosed in parentheses and separated commas.\n",
    "3. The savaScript statements that define the function, enclosed in curly braces, { /* ... */ }.\n",
    "Example:"
   ]
  },
  {
   "cell_type": "code",
   "execution_count": null,
   "id": "70ac0e26-7e07-44af-b660-f05201d44897",
   "metadata": {},
   "outputs": [],
   "source": []
  },
  {
   "cell_type": "markdown",
   "id": "5364f81b-551e-42e7-8652-6580e7b745e5",
   "metadata": {},
   "source": [
    "# Loops"
   ]
  },
  {
   "cell_type": "markdown",
   "id": "80c4bb25-3ddf-465a-ae27-6e9b9d863d5d",
   "metadata": {},
   "source": [
    "###Loops in Javascript "
   ]
  },
  {
   "cell_type": "markdown",
   "id": "3c674a38-7254-4179-917b-a95ab9d5b1d9",
   "metadata": {},
   "source": [
    "The Purpose of Loops\n",
    "Loops are fundamental constructs in programming used to automate repetitive tasks,\n",
    "thereby making code more efficient and less cluttered. They are particularly useful in various\n",
    "scenarios, such as processing lists or arrays, repeating actions, or handling user inputs. Loops\n",
    "typically utilize an iterator variable, which tracks the state or progress of the loop. This\n",
    "iterator is often integral to the condition that determines when the loop starts and stops. By\n",
    "evaluating this condition, the loop can execute its code block repeatedly until the specified\n",
    "condition is no longer met.\n",
    "Iterator variables can have any name, yet often are represented by the letter i or another\n",
    "short letter.\n",
    "Note that in loops we often have a condition to change or modify the condition.\n",
    "Loops, like most logic in programming can be evaluating to True or False ."
   ]
  },
  {
   "cell_type": "markdown",
   "id": "d8684808-3bc1-422c-bd63-966ff88e8aba",
   "metadata": {},
   "source": [
    "### Types of Loops \n",
    "___"
   ]
  },
  {
   "cell_type": "markdown",
   "id": "ec1c15cc-b271-4485-aacd-9a723baf517b",
   "metadata": {},
   "source": [
    "A \"While\" Loop is used to repeat a specific block of code an unknown number of times, until\n",
    "a condition is met. For example, if we want to ask a user for a number between 1 and 10, we\n",
    "don't know how many times the user may enter a larger number, so we keep asking \"while\n",
    "the number is not between 1 and 10\". If we (or the computer) knows exactly how many times\n",
    "to execute a section of code (such as shuffling a deck of cards) we use a for loop."
   ]
  },
  {
   "cell_type": "code",
   "execution_count": 2,
   "id": "6a52df98-bdc0-4de9-b46b-867041b94e6f",
   "metadata": {},
   "outputs": [
    {
     "name": "stdout",
     "output_type": "stream",
     "text": [
      "1 Silly looking dogs\n",
      "2 Silly looking dogs\n",
      "3 Silly looking dogs\n",
      "4 Silly looking dogs\n"
     ]
    },
    {
     "data": {
      "text/plain": [
       "4"
      ]
     },
     "execution_count": 2,
     "metadata": {},
     "output_type": "execute_result"
    }
   ],
   "source": [
    "//This loop just counts from 1 to 4 and prints out the loops iterator variable valu\n",
    "let i = 1\n",
    "while (i < 5){\n",
    "console.log(i + \" Silly looking dogs\");\n",
    "i++;\n",
    "}"
   ]
  },
  {
   "cell_type": "markdown",
   "id": "d5573735-2af6-423f-b13f-2bf7848a92a6",
   "metadata": {},
   "source": [
    "Note: Please not the i++ which is incrementing the value of i . Without this this while\n",
    "loop would be stuck forever, since the condition is not being changed or satisfied."
   ]
  },
  {
   "cell_type": "code",
   "execution_count": 3,
   "id": "94486b40-cadd-47ef-ac6f-85b62ff3d7e0",
   "metadata": {},
   "outputs": [
    {
     "name": "stdout",
     "output_type": "stream",
     "text": [
      "10\n",
      "9\n",
      "8\n",
      "7\n",
      "6\n",
      "5\n",
      "4\n",
      "3\n",
      "2\n",
      "1\n"
     ]
    },
    {
     "data": {
      "text/plain": [
       "1"
      ]
     },
     "execution_count": 3,
     "metadata": {},
     "output_type": "execute_result"
    }
   ],
   "source": [
    "//Counts down from a number. The -- is decrementing the value as opposed to ++ whic\n",
    "let count = 10;\n",
    "while(count > 0){\n",
    "console.log(count);\n",
    "    count--;\n",
    "}"
   ]
  },
  {
   "cell_type": "markdown",
   "id": "f24ee4fd-606e-4133-a5b4-54d0b3e5dfe0",
   "metadata": {},
   "source": [
    "# For Loops\n",
    "___"
   ]
  },
  {
   "cell_type": "markdown",
   "id": "fcc6cf76-c7b1-44ec-895d-08c45a17ac26",
   "metadata": {},
   "source": [
    "A \"for\" Loop is used to repeat a specific block of code a known number of times. For\n",
    "example, if we want to check the grade of every student in the class, we loop from 1 to that\n",
    "number. When the number of times is not known before hand, we use a \"While\" loop.\n",
    "The for loop is used to repeat a section of code known number of times. Sometimes it is the\n",
    "computer that knows how many times, not you, but it is still known. Some examples:\n",
    "Unknown number of times:\n",
    "\"Ask the User to Guess a pre-determined number between 1 and 100\". You have no way of\n",
    "knowing how many guesses it will take.\n",
    "\"Randomly look in an array for a given value.\" You have no way of knowing how many tries it will take to find\n",
    "the actual value"
   ]
  },
  {
   "cell_type": "markdown",
   "id": "29df55c2-8e88-42e9-9273-8588ca044375",
   "metadata": {},
   "source": [
    "Note: this is a made-up example, because you would never randomly look into an array to\n",
    "find a value. You would always start at the front of the array and look one element at a time\n",
    "until you found the item or got to the end of the array.\n",
    "Known number of times:\n",
    "Compute the average grade of the class. While you (the programmer) might not know how\n",
    "many grades exist in the class, the computer will know. Usually this is accomplished by using\n",
    "the \"length\" function on an array.\n",
    "Print the odd numbers from 1 to 1001.\n",
    "Search a list (array) of numbers for the biggest grade. Again, the computer \"knows\" how\n",
    "many grades there are, so a for loop is appropriate."
   ]
  },
  {
   "cell_type": "code",
   "execution_count": 4,
   "id": "df2f7891-8f68-4725-9af6-14168ab96fd3",
   "metadata": {},
   "outputs": [
    {
     "name": "stdout",
     "output_type": "stream",
     "text": [
      "1\n",
      "2\n",
      "3\n",
      "4\n",
      "5\n"
     ]
    }
   ],
   "source": [
    "//prints out 'i' 5 times\n",
    "for(let i = 1; i <= 5; i++){\n",
    "    console.log(i);\n",
    "}"
   ]
  },
  {
   "cell_type": "markdown",
   "id": "fff7e436-63d3-40c1-9306-d1716f037d58",
   "metadata": {},
   "source": [
    "note that this will run for as long as the condition is false, as dictated by the iterator variable."
   ]
  },
  {
   "cell_type": "code",
   "execution_count": 5,
   "id": "ade9c97f-f862-47ee-9e88-50e59a0c3cdb",
   "metadata": {},
   "outputs": [
    {
     "name": "stdout",
     "output_type": "stream",
     "text": [
      "Pear located in the list\n"
     ]
    }
   ],
   "source": [
    "//Iterates through a list to check if the specified element is in the list\n",
    "const fruits = [\"Apple\", \"Pear\", \"Cherry\", \"Date\"]\n",
    "for(let i = 0; i < fruits.length; i++){\n",
    "if(fruits[i] === \"Pear\"){\n",
    "console.log(\"Pear located in the list\");\n",
    "}\n",
    "}"
   ]
  },
  {
   "cell_type": "markdown",
   "id": "907945d9-c2a3-4aa1-90aa-fa5f1af001bb",
   "metadata": {},
   "source": [
    "Pear located in the list\n",
    "Note that we can look at the length of the list using the .length() list method. This is an easy\n",
    "way of telling the computer you want the length of the list. We can also use it to see how\n",
    "many items are in the list. Lets look at another example below."
   ]
  },
  {
   "cell_type": "code",
   "execution_count": 6,
   "id": "82513d4d-06a0-41d1-9726-84cc4824d630",
   "metadata": {},
   "outputs": [
    {
     "name": "stdout",
     "output_type": "stream",
     "text": [
      "3\n"
     ]
    }
   ],
   "source": [
    "let students = [\"Nicole\", \"Kye\", \"Leila\"];\n",
    "console.log(students.length)"
   ]
  },
  {
   "cell_type": "code",
   "execution_count": 7,
   "id": "ffc9128d-bca8-42b1-97ff-01de15bf908e",
   "metadata": {},
   "outputs": [
    {
     "ename": "SyntaxError",
     "evalue": "Unexpected token ')'",
     "execution_count": 7,
     "output_type": "error",
     "traceback": [
      "evalmachine.<anonymous>:5",
      "for(let i = 0; i < studentList[i] + \"is a student number\" + (i + 1 )); ",
      "                                                                    ^",
      "",
      "SyntaxError: Unexpected token ')'",
      "    at new Script (node:vm:93:7)",
      "    at createScript (node:vm:248:10)",
      "    at Object.runInThisContext (node:vm:296:10)",
      "    at run ([eval]:1020:15)",
      "    at onRunRequest ([eval]:864:18)",
      "    at onMessage ([eval]:828:13)",
      "    at process.emit (node:events:514:28)",
      "    at emit (node:internal/child_process:951:14)",
      "    at process.processTicksAndRejections (node:internal/process/task_queues:83:21)"
     ]
    }
   ],
   "source": [
    "//Looks through a list of students and lists what number each student is.\n",
    "let studentList = [\"Nicole\", \"Kye\", \"Leila\"];\n",
    "for(let i = 0; i < studentList.length; i++){\n",
    "\n",
    "for(let i = 0; i < studentList[i] + \"is a student number\" + (i + 1 )); \n",
    "}"
   ]
  },
  {
   "cell_type": "code",
   "execution_count": 8,
   "id": "546c6008-13e2-48c6-88be-9d0557c79531",
   "metadata": {},
   "outputs": [
    {
     "name": "stdout",
     "output_type": "stream",
     "text": [
      "Total Sum: 150\n"
     ]
    }
   ],
   "source": [
    "//sums list items\n",
    "let numbers = [10, 20, 30, 40, 50];\n",
    "let sum = 0;\n",
    "for (let i = 0; i < numbers.length; i++) {\n",
    "sum += numbers[i];\n",
    "}\n",
    "console.log(\"Total Sum:\", sum);"
   ]
  },
  {
   "cell_type": "markdown",
   "id": "91f15833-c411-4bb4-b0ce-09c879401168",
   "metadata": {},
   "source": [
    "do while loops\n",
    "\n",
    "executes at least once, even if the condition is initially false"
   ]
  },
  {
   "cell_type": "code",
   "execution_count": 9,
   "id": "96abd7bb-e0ca-4787-8cb0-2c995237ebdd",
   "metadata": {},
   "outputs": [
    {
     "name": "stdout",
     "output_type": "stream",
     "text": [
      "User Input: 0.5496622409116598\n"
     ]
    }
   ],
   "source": [
    "//Takes an input, then prints out the userInput, this continues until a number less\n",
    "let userInput;\n",
    "do {\n",
    "userInput = Math.random(); // Simulate user input with random number\n",
    "console.log(\"User Input:\", userInput);\n",
    "} while (userInput < 0.5);"
   ]
  },
  {
   "cell_type": "code",
   "execution_count": 10,
   "id": "5ddbc47c-8083-4f5f-acd8-201754626123",
   "metadata": {},
   "outputs": [
    {
     "name": "stdout",
     "output_type": "stream",
     "text": [
      "Generated Number: 8\n"
     ]
    }
   ],
   "source": [
    "//Generating a random number until its even. Checking for an even number with the m\n",
    "let randomNumber;\n",
    "do {\n",
    "randomNumber = Math.floor(Math.random() * 100); // Random number between 0 and\n",
    "console.log(\"Generated Number:\", randomNumber);\n",
    "} while (randomNumber % 2 !== 0); // Continue if the number is odd"
   ]
  },
  {
   "cell_type": "markdown",
   "id": "0167e494-fb5b-4ac3-830e-f18065a15068",
   "metadata": {},
   "source": [
    "### Common mistakes\n",
    "___"
   ]
  },
  {
   "cell_type": "code",
   "execution_count": 12,
   "id": "bc59bbd3-b3ed-482a-bb48-f62670860150",
   "metadata": {},
   "outputs": [
    {
     "ename": "SyntaxError",
     "evalue": "Unexpected identifier 'Loops'",
     "execution_count": 12,
     "output_type": "error",
     "traceback": [
      "evalmachine.<anonymous>:1",
      "Infinite Loops",
      "         ^^^^^",
      "",
      "SyntaxError: Unexpected identifier 'Loops'",
      "    at new Script (node:vm:93:7)",
      "    at createScript (node:vm:248:10)",
      "    at Object.runInThisContext (node:vm:296:10)",
      "    at run ([eval]:1020:15)",
      "    at onRunRequest ([eval]:864:18)",
      "    at onMessage ([eval]:828:13)",
      "    at process.emit (node:events:514:28)",
      "    at emit (node:internal/child_process:951:14)",
      "    at process.processTicksAndRejections (node:internal/process/task_queues:83:21)"
     ]
    }
   ],
   "source": [
    "Infinite Loops\n",
    "\n",
    "Occur when the loop's exit condition is never met.\n",
    "Common in while and do...while loops if the condition for exiting the loop is not\n",
    "properly updated within the loop.\n",
    "Example:\n",
    "let x = 2;\n",
    "\n",
    "In [78]: In [4]: In [27]: In [1]:\n",
    "\n",
    "while(x < 5){\n",
    "console.log(\"I will print forever\");\n",
    "}"
   ]
  },
  {
   "cell_type": "markdown",
   "id": "aba7bbce-b615-47e4-99f1-a80cd2f7758c",
   "metadata": {},
   "source": [
    "Off By One Errors\n",
    "\n",
    "Incorrectly setting loop boundaries, causing one too many or too few iterations."
   ]
  },
  {
   "cell_type": "code",
   "execution_count": 13,
   "id": "527af2e4-9156-41a5-baab-205294b28baa",
   "metadata": {},
   "outputs": [
    {
     "name": "stdout",
     "output_type": "stream",
     "text": [
      "1\n",
      "2\n",
      "3\n",
      "4\n",
      "5\n",
      "undefined\n"
     ]
    }
   ],
   "source": [
    "// Off-by-one error: iterates one extra time\n",
    "let array = [1, 2, 3, 4, 5];\n",
    "for (let i = 0; i <= array.length; i++) {\n",
    "console.log(array[i]);\n",
    "}"
   ]
  },
  {
   "cell_type": "markdown",
   "id": "5644ff94-73eb-4576-8ecf-8ce88b49eb0e",
   "metadata": {},
   "source": [
    "Unintended scope of variables"
   ]
  },
  {
   "cell_type": "code",
   "execution_count": 14,
   "id": "0b76a44d-dd00-47d1-929c-184de096bcc5",
   "metadata": {},
   "outputs": [
    {
     "name": "stdout",
     "output_type": "stream",
     "text": [
      "5\n"
     ]
    }
   ],
   "source": [
    "// Variable 'i' should be accessible outside the loop\n",
    "for (let i = 0; i < 5; i++) {\n",
    "// Loop logic\n",
    "}\n",
    "console.log(i); // Error: 'i' is not defined, it doesnt exist outside the loop."
   ]
  },
  {
   "cell_type": "markdown",
   "id": "7c78b470-d363-4434-8cd9-1706564f883b",
   "metadata": {},
   "source": [
    "Misunderstanding Loop Conditions\n",
    "This happens when you confuse assignment and comparison operators.\n",
    "___"
   ]
  },
  {
   "cell_type": "code",
   "execution_count": 15,
   "id": "5591d726-8f38-4d7a-bfd8-d59defe508da",
   "metadata": {},
   "outputs": [
    {
     "ename": "SyntaxError",
     "evalue": "Identifier 'i' has already been declared",
     "execution_count": 15,
     "output_type": "error",
     "traceback": [
      "evalmachine.<anonymous>:1",
      "let i = 0;",
      "^",
      "",
      "SyntaxError: Identifier 'i' has already been declared",
      "    at Script.runInThisContext (node:vm:122:12)",
      "    at Object.runInThisContext (node:vm:296:38)",
      "    at run ([eval]:1020:15)",
      "    at onRunRequest ([eval]:864:18)",
      "    at onMessage ([eval]:828:13)",
      "    at process.emit (node:events:514:28)",
      "    at emit (node:internal/child_process:951:14)",
      "    at process.processTicksAndRejections (node:internal/process/task_queues:83:21)"
     ]
    }
   ],
   "source": [
    "let i = 0;\n",
    "while (i = 5) { // Mistakenly using assignment '=' instead of '=='\n",
    "// Loop logic\n",
    "}"
   ]
  },
  {
   "cell_type": "code",
   "execution_count": null,
   "id": "db2357aa-3790-4e83-8f3e-9d0df592ce23",
   "metadata": {},
   "outputs": [],
   "source": []
  }
 ],
 "metadata": {
  "kernelspec": {
   "display_name": "JavaScript (Node.js)",
   "language": "javascript",
   "name": "javascript"
  },
  "language_info": {
   "file_extension": ".js",
   "mimetype": "application/javascript",
   "name": "javascript",
   "version": "20.8.1"
  }
 },
 "nbformat": 4,
 "nbformat_minor": 5
}
