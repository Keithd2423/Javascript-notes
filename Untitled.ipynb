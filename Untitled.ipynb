{
 "cells": [
  {
   "cell_type": "markdown",
   "id": "070217b8-ddae-4a99-97ef-0f85385b52e5",
   "metadata": {},
   "source": [
    "# Variables"
   ]
  },
  {
   "cell_type": "markdown",
   "id": "4363d401-d6eb-445e-bb43-ff7a4449f4b1",
   "metadata": {},
   "source": [
    "prints a new line in the console "
   ]
  },
  {
   "cell_type": "markdown",
   "id": "13793f54-7060-45a0-81f0-cf08646b91a2",
   "metadata": {},
   "source": [
    "syntax: console.log(\"Text or Object\");\n",
    "\n",
    "Example:"
   ]
  },
  {
   "cell_type": "markdown",
   "id": "b906115f-16ea-4131-a8e2-7bb8a14b79e9",
   "metadata": {},
   "source": [
    "Example:"
   ]
  },
  {
   "cell_type": "code",
   "execution_count": 5,
   "id": "1de4ec26-eaa4-48fb-904d-733a4466983a",
   "metadata": {},
   "outputs": [
    {
     "name": "stdout",
     "output_type": "stream",
     "text": [
      "hello world\n"
     ]
    }
   ],
   "source": [
    "console.log(\"hello world\");"
   ]
  },
  {
   "cell_type": "code",
   "execution_count": null,
   "id": "4924ebdc-465e-40a5-afbf-906fe9040275",
   "metadata": {},
   "outputs": [],
   "source": []
  }
 ],
 "metadata": {
  "kernelspec": {
   "display_name": "JavaScript (Node.js)",
   "language": "javascript",
   "name": "javascript"
  },
  "language_info": {
   "file_extension": ".js",
   "mimetype": "application/javascript",
   "name": "javascript",
   "version": "20.8.1"
  }
 },
 "nbformat": 4,
 "nbformat_minor": 5
}
